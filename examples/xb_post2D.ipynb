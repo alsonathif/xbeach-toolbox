{
 "cells": [
  {
   "cell_type": "code",
   "execution_count": null,
   "metadata": {},
   "outputs": [],
   "source": [
    "# import default modules\n",
    "import numpy as np\n",
    "from scipy import interpolate\n",
    "import matplotlib.pyplot as plt\n",
    "from mpl_toolkits.mplot3d import axes3d, Axes3D \n",
    "from matplotlib import cm\n",
    "import sys\n",
    "import os\n",
    "\n",
    "# method to import xbtools with try routine\n",
    "try:\n",
    "    import xbTools\n",
    "except ImportError:\n",
    "    print('**no xbTools installation found in environment, adding parent path of notebook to see if it works')\n",
    "    sys.path.append(os.path.abspath(os.path.join('..', '..', 'xbeach-toolbox')))"
   ]
  },
  {
   "cell_type": "code",
   "execution_count": null,
   "metadata": {},
   "outputs": [],
   "source": [
    "## import specific tools from xbTools\n",
    "from xbTools.grid.creation import xgrid, ygrid\n",
    "from xbTools.grid.extension import seaward_extend, lateral_extend\n",
    "from xbTools.xbeachtools import XBeachModelSetup\n",
    "from xbTools.general import wave_functions, visualize_mesh"
   ]
  }
 ],
 "metadata": {
  "language_info": {
   "name": "python"
  }
 },
 "nbformat": 4,
 "nbformat_minor": 2
}
